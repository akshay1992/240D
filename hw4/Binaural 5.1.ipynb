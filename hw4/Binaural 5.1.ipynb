{
 "cells": [
  {
   "cell_type": "markdown",
   "metadata": {},
   "source": [
    "# 240D: Spatial Audio\n",
    "### Homework 4\n",
    "\n",
    "Render a 5.1 channel wav file to binaural audio using the subject 20 of the CIPIC HRTF database."
   ]
  },
  {
   "cell_type": "code",
   "execution_count": 24,
   "metadata": {
    "collapsed": false
   },
   "outputs": [],
   "source": [
    "from netCDF4 import Dataset\n",
    "%run AudioFile\n",
    "from scipy import spatial"
   ]
  },
  {
   "cell_type": "code",
   "execution_count": 25,
   "metadata": {
    "collapsed": false
   },
   "outputs": [],
   "source": [
    "# Audiofile\n",
    "a = AudioFile('sample.wav')\n",
    "\n",
    "#SOFA Dataset\n",
    "ds = Dataset('subject_020.sofa', 'r')"
   ]
  },
  {
   "cell_type": "code",
   "execution_count": 26,
   "metadata": {
    "collapsed": false
   },
   "outputs": [],
   "source": [
    "#Extract some data\n",
    "IRs = ds['Data.IR']\n",
    "src_positions = ds['SourcePosition']\n",
    "\n",
    "#Makes it easier to search\n",
    "src_positions_tree = spatial.KDTree(src_positions)"
   ]
  },
  {
   "cell_type": "code",
   "execution_count": 27,
   "metadata": {
    "collapsed": false
   },
   "outputs": [],
   "source": [
    "def get_IR(azimuth, elevation, distance = 1.0):\n",
    "    if (azimuth >= 360 or azimuth < 0):\n",
    "        print (\"Invalid azimuth\")\n",
    "        return\n",
    "    elif (abs(elevation)>=90):\n",
    "        print (\"Invalid elevation\")\n",
    "        return \n",
    "    vec = np.array([azimuth, elevation, distance])\n",
    "    index = src_positions_tree.query(vec)[1]\n",
    "    return IRs[index]"
   ]
  },
  {
   "cell_type": "code",
   "execution_count": 28,
   "metadata": {
    "collapsed": false
   },
   "outputs": [],
   "source": [
    "# 5.1\n",
    "speaker_layout = np.array([\n",
    "        [30, 0],  #LF\n",
    "        [330, 0], #RF\n",
    "        [0, 0],   #C\n",
    "        [110, 0], #LR\n",
    "        [250, 0], #RR\n",
    "        [0, -30], #LFE       \n",
    "    ])"
   ]
  },
  {
   "cell_type": "code",
   "execution_count": 29,
   "metadata": {
    "collapsed": false
   },
   "outputs": [],
   "source": [
    "ir_list = [get_IR( speaker[0] , speaker[1]) for speaker in speaker_layout]"
   ]
  },
  {
   "cell_type": "code",
   "execution_count": 30,
   "metadata": {
    "collapsed": false
   },
   "outputs": [],
   "source": [
    "#Just checking\n",
    "\n",
    "if( a.sr != ds['Data.SamplingRate'][0] ):\n",
    "    print \"Error! Samplerates dont match\"\n",
    "\n",
    "if( a.nchans != len(ir_list) ):\n",
    "    print \"Number of channels don't match the speaker layout\""
   ]
  },
  {
   "cell_type": "code",
   "execution_count": 31,
   "metadata": {
    "collapsed": false
   },
   "outputs": [],
   "source": [
    "# Render to binaural\n",
    "left = []\n",
    "right = []\n",
    "\n",
    "i = 0\n",
    "for channel in a.audio.T:\n",
    "    left.append(np.convolve(channel, ir_list[i][0]))\n",
    "    right.append(np.convolve(channel, ir_list[i][1]))\n",
    "    i = i +1\n",
    "\n",
    "left = np.sum(left, axis=0) * 0.2\n",
    "right = np.sum(right,axis=0)* 0.2    \n",
    "\n",
    "audio_data = np.array([left, right]).T"
   ]
  },
  {
   "cell_type": "code",
   "execution_count": 32,
   "metadata": {
    "collapsed": false
   },
   "outputs": [],
   "source": [
    "# Output to file\n",
    "output_file = Sndfile('binaural_render.wav' , 'w', Format('wav'), 2, a.sr )\n",
    "output_file.write_frames(audio_data)"
   ]
  },
  {
   "cell_type": "markdown",
   "metadata": {},
   "source": [
    "---------\n",
    "\n",
    "    Akshay Cadambi (akshay19.92@gmail.com)\n",
    "    Graduate Student\n",
    "    Media, Arts and Technology\n",
    "    UC Santa Barbara"
   ]
  }
 ],
 "metadata": {
  "kernelspec": {
   "display_name": "Python 2",
   "language": "python",
   "name": "python2"
  },
  "language_info": {
   "codemirror_mode": {
    "name": "ipython",
    "version": 2
   },
   "file_extension": ".py",
   "mimetype": "text/x-python",
   "name": "python",
   "nbconvert_exporter": "python",
   "pygments_lexer": "ipython2",
   "version": "2.7.10"
  }
 },
 "nbformat": 4,
 "nbformat_minor": 0
}
